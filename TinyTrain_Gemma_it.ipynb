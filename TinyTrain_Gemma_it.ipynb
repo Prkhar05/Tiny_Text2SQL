{
  "metadata": {
    "colab": {
      "provenance": [],
      "gpuType": "T4",
      "include_colab_link": true
    },
    "kernelspec": {
      "name": "python3",
      "display_name": "Python 3",
      "language": "python"
    },
    "language_info": {
      "name": "python",
      "version": "3.10.13",
      "mimetype": "text/x-python",
      "codemirror_mode": {
        "name": "ipython",
        "version": 3
      },
      "pygments_lexer": "ipython3",
      "nbconvert_exporter": "python",
      "file_extension": ".py"
    },
    "accelerator": "GPU",
    "widgets": {
      "application/vnd.jupyter.widget-state+json": {
        "d27e72811f884d8fb21b15da1bb24021": {
          "model_module": "@jupyter-widgets/controls",
          "model_name": "HBoxModel",
          "model_module_version": "1.5.0",
          "state": {
            "_dom_classes": [],
            "_model_module": "@jupyter-widgets/controls",
            "_model_module_version": "1.5.0",
            "_model_name": "HBoxModel",
            "_view_count": null,
            "_view_module": "@jupyter-widgets/controls",
            "_view_module_version": "1.5.0",
            "_view_name": "HBoxView",
            "box_style": "",
            "children": [
              "IPY_MODEL_ea2427ecd944420983f4ac0b4daf8613",
              "IPY_MODEL_b12c82eeec00490790797e4d6dc3b53d",
              "IPY_MODEL_bf11ec6840a049e4a821cc408c16e5f7"
            ],
            "layout": "IPY_MODEL_618e8d2d473c4a688707ac732546b702"
          }
        },
        "ea2427ecd944420983f4ac0b4daf8613": {
          "model_module": "@jupyter-widgets/controls",
          "model_name": "HTMLModel",
          "model_module_version": "1.5.0",
          "state": {
            "_dom_classes": [],
            "_model_module": "@jupyter-widgets/controls",
            "_model_module_version": "1.5.0",
            "_model_name": "HTMLModel",
            "_view_count": null,
            "_view_module": "@jupyter-widgets/controls",
            "_view_module_version": "1.5.0",
            "_view_name": "HTMLView",
            "description": "",
            "description_tooltip": null,
            "layout": "IPY_MODEL_85cc6f556a584ec88c3aaebabe1c3552",
            "placeholder": "​",
            "style": "IPY_MODEL_9457bdc7edc94cd3a3faa2ebdfc7ef6b",
            "value": "Loading checkpoint shards: 100%"
          }
        },
        "b12c82eeec00490790797e4d6dc3b53d": {
          "model_module": "@jupyter-widgets/controls",
          "model_name": "FloatProgressModel",
          "model_module_version": "1.5.0",
          "state": {
            "_dom_classes": [],
            "_model_module": "@jupyter-widgets/controls",
            "_model_module_version": "1.5.0",
            "_model_name": "FloatProgressModel",
            "_view_count": null,
            "_view_module": "@jupyter-widgets/controls",
            "_view_module_version": "1.5.0",
            "_view_name": "ProgressView",
            "bar_style": "success",
            "description": "",
            "description_tooltip": null,
            "layout": "IPY_MODEL_d15923b72db44631a92fae5446eb7fe2",
            "max": 4,
            "min": 0,
            "orientation": "horizontal",
            "style": "IPY_MODEL_4c7dbc1cf8f64d41a9eb91bcaaa54563",
            "value": 4
          }
        },
        "bf11ec6840a049e4a821cc408c16e5f7": {
          "model_module": "@jupyter-widgets/controls",
          "model_name": "HTMLModel",
          "model_module_version": "1.5.0",
          "state": {
            "_dom_classes": [],
            "_model_module": "@jupyter-widgets/controls",
            "_model_module_version": "1.5.0",
            "_model_name": "HTMLModel",
            "_view_count": null,
            "_view_module": "@jupyter-widgets/controls",
            "_view_module_version": "1.5.0",
            "_view_name": "HTMLView",
            "description": "",
            "description_tooltip": null,
            "layout": "IPY_MODEL_6c758e7dd9c243608cf95a40f2d9733c",
            "placeholder": "​",
            "style": "IPY_MODEL_50a403c1492d4615add41a3f06042d33",
            "value": " 4/4 [01:26&lt;00:00, 18.01s/it]"
          }
        },
        "618e8d2d473c4a688707ac732546b702": {
          "model_module": "@jupyter-widgets/base",
          "model_name": "LayoutModel",
          "model_module_version": "1.2.0",
          "state": {
            "_model_module": "@jupyter-widgets/base",
            "_model_module_version": "1.2.0",
            "_model_name": "LayoutModel",
            "_view_count": null,
            "_view_module": "@jupyter-widgets/base",
            "_view_module_version": "1.2.0",
            "_view_name": "LayoutView",
            "align_content": null,
            "align_items": null,
            "align_self": null,
            "border": null,
            "bottom": null,
            "display": null,
            "flex": null,
            "flex_flow": null,
            "grid_area": null,
            "grid_auto_columns": null,
            "grid_auto_flow": null,
            "grid_auto_rows": null,
            "grid_column": null,
            "grid_gap": null,
            "grid_row": null,
            "grid_template_areas": null,
            "grid_template_columns": null,
            "grid_template_rows": null,
            "height": null,
            "justify_content": null,
            "justify_items": null,
            "left": null,
            "margin": null,
            "max_height": null,
            "max_width": null,
            "min_height": null,
            "min_width": null,
            "object_fit": null,
            "object_position": null,
            "order": null,
            "overflow": null,
            "overflow_x": null,
            "overflow_y": null,
            "padding": null,
            "right": null,
            "top": null,
            "visibility": null,
            "width": null
          }
        },
        "85cc6f556a584ec88c3aaebabe1c3552": {
          "model_module": "@jupyter-widgets/base",
          "model_name": "LayoutModel",
          "model_module_version": "1.2.0",
          "state": {
            "_model_module": "@jupyter-widgets/base",
            "_model_module_version": "1.2.0",
            "_model_name": "LayoutModel",
            "_view_count": null,
            "_view_module": "@jupyter-widgets/base",
            "_view_module_version": "1.2.0",
            "_view_name": "LayoutView",
            "align_content": null,
            "align_items": null,
            "align_self": null,
            "border": null,
            "bottom": null,
            "display": null,
            "flex": null,
            "flex_flow": null,
            "grid_area": null,
            "grid_auto_columns": null,
            "grid_auto_flow": null,
            "grid_auto_rows": null,
            "grid_column": null,
            "grid_gap": null,
            "grid_row": null,
            "grid_template_areas": null,
            "grid_template_columns": null,
            "grid_template_rows": null,
            "height": null,
            "justify_content": null,
            "justify_items": null,
            "left": null,
            "margin": null,
            "max_height": null,
            "max_width": null,
            "min_height": null,
            "min_width": null,
            "object_fit": null,
            "object_position": null,
            "order": null,
            "overflow": null,
            "overflow_x": null,
            "overflow_y": null,
            "padding": null,
            "right": null,
            "top": null,
            "visibility": null,
            "width": null
          }
        },
        "9457bdc7edc94cd3a3faa2ebdfc7ef6b": {
          "model_module": "@jupyter-widgets/controls",
          "model_name": "DescriptionStyleModel",
          "model_module_version": "1.5.0",
          "state": {
            "_model_module": "@jupyter-widgets/controls",
            "_model_module_version": "1.5.0",
            "_model_name": "DescriptionStyleModel",
            "_view_count": null,
            "_view_module": "@jupyter-widgets/base",
            "_view_module_version": "1.2.0",
            "_view_name": "StyleView",
            "description_width": ""
          }
        },
        "d15923b72db44631a92fae5446eb7fe2": {
          "model_module": "@jupyter-widgets/base",
          "model_name": "LayoutModel",
          "model_module_version": "1.2.0",
          "state": {
            "_model_module": "@jupyter-widgets/base",
            "_model_module_version": "1.2.0",
            "_model_name": "LayoutModel",
            "_view_count": null,
            "_view_module": "@jupyter-widgets/base",
            "_view_module_version": "1.2.0",
            "_view_name": "LayoutView",
            "align_content": null,
            "align_items": null,
            "align_self": null,
            "border": null,
            "bottom": null,
            "display": null,
            "flex": null,
            "flex_flow": null,
            "grid_area": null,
            "grid_auto_columns": null,
            "grid_auto_flow": null,
            "grid_auto_rows": null,
            "grid_column": null,
            "grid_gap": null,
            "grid_row": null,
            "grid_template_areas": null,
            "grid_template_columns": null,
            "grid_template_rows": null,
            "height": null,
            "justify_content": null,
            "justify_items": null,
            "left": null,
            "margin": null,
            "max_height": null,
            "max_width": null,
            "min_height": null,
            "min_width": null,
            "object_fit": null,
            "object_position": null,
            "order": null,
            "overflow": null,
            "overflow_x": null,
            "overflow_y": null,
            "padding": null,
            "right": null,
            "top": null,
            "visibility": null,
            "width": null
          }
        },
        "4c7dbc1cf8f64d41a9eb91bcaaa54563": {
          "model_module": "@jupyter-widgets/controls",
          "model_name": "ProgressStyleModel",
          "model_module_version": "1.5.0",
          "state": {
            "_model_module": "@jupyter-widgets/controls",
            "_model_module_version": "1.5.0",
            "_model_name": "ProgressStyleModel",
            "_view_count": null,
            "_view_module": "@jupyter-widgets/base",
            "_view_module_version": "1.2.0",
            "_view_name": "StyleView",
            "bar_color": null,
            "description_width": ""
          }
        },
        "6c758e7dd9c243608cf95a40f2d9733c": {
          "model_module": "@jupyter-widgets/base",
          "model_name": "LayoutModel",
          "model_module_version": "1.2.0",
          "state": {
            "_model_module": "@jupyter-widgets/base",
            "_model_module_version": "1.2.0",
            "_model_name": "LayoutModel",
            "_view_count": null,
            "_view_module": "@jupyter-widgets/base",
            "_view_module_version": "1.2.0",
            "_view_name": "LayoutView",
            "align_content": null,
            "align_items": null,
            "align_self": null,
            "border": null,
            "bottom": null,
            "display": null,
            "flex": null,
            "flex_flow": null,
            "grid_area": null,
            "grid_auto_columns": null,
            "grid_auto_flow": null,
            "grid_auto_rows": null,
            "grid_column": null,
            "grid_gap": null,
            "grid_row": null,
            "grid_template_areas": null,
            "grid_template_columns": null,
            "grid_template_rows": null,
            "height": null,
            "justify_content": null,
            "justify_items": null,
            "left": null,
            "margin": null,
            "max_height": null,
            "max_width": null,
            "min_height": null,
            "min_width": null,
            "object_fit": null,
            "object_position": null,
            "order": null,
            "overflow": null,
            "overflow_x": null,
            "overflow_y": null,
            "padding": null,
            "right": null,
            "top": null,
            "visibility": null,
            "width": null
          }
        },
        "50a403c1492d4615add41a3f06042d33": {
          "model_module": "@jupyter-widgets/controls",
          "model_name": "DescriptionStyleModel",
          "model_module_version": "1.5.0",
          "state": {
            "_model_module": "@jupyter-widgets/controls",
            "_model_module_version": "1.5.0",
            "_model_name": "DescriptionStyleModel",
            "_view_count": null,
            "_view_module": "@jupyter-widgets/base",
            "_view_module_version": "1.2.0",
            "_view_name": "StyleView",
            "description_width": ""
          }
        },
        "63c4405bc37341179d1060844cb5b265": {
          "model_module": "@jupyter-widgets/controls",
          "model_name": "HBoxModel",
          "model_module_version": "1.5.0",
          "state": {
            "_dom_classes": [],
            "_model_module": "@jupyter-widgets/controls",
            "_model_module_version": "1.5.0",
            "_model_name": "HBoxModel",
            "_view_count": null,
            "_view_module": "@jupyter-widgets/controls",
            "_view_module_version": "1.5.0",
            "_view_name": "HBoxView",
            "box_style": "",
            "children": [
              "IPY_MODEL_827790904bea4f2da4f6a3db34eb3960",
              "IPY_MODEL_0b7792cc09cb420fab0d9a5a2321238f",
              "IPY_MODEL_8d45a144c5f6408f8ed99508434bce08"
            ],
            "layout": "IPY_MODEL_7a18da9e8475475c9936a266a2dcb518"
          }
        },
        "827790904bea4f2da4f6a3db34eb3960": {
          "model_module": "@jupyter-widgets/controls",
          "model_name": "HTMLModel",
          "model_module_version": "1.5.0",
          "state": {
            "_dom_classes": [],
            "_model_module": "@jupyter-widgets/controls",
            "_model_module_version": "1.5.0",
            "_model_name": "HTMLModel",
            "_view_count": null,
            "_view_module": "@jupyter-widgets/controls",
            "_view_module_version": "1.5.0",
            "_view_name": "HTMLView",
            "description": "",
            "description_tooltip": null,
            "layout": "IPY_MODEL_9d794640f68e4caba88f4af0d29f9bae",
            "placeholder": "​",
            "style": "IPY_MODEL_b32d0eb3668b48b2954f4e2982022f5d",
            "value": "Map: 100%"
          }
        },
        "0b7792cc09cb420fab0d9a5a2321238f": {
          "model_module": "@jupyter-widgets/controls",
          "model_name": "FloatProgressModel",
          "model_module_version": "1.5.0",
          "state": {
            "_dom_classes": [],
            "_model_module": "@jupyter-widgets/controls",
            "_model_module_version": "1.5.0",
            "_model_name": "FloatProgressModel",
            "_view_count": null,
            "_view_module": "@jupyter-widgets/controls",
            "_view_module_version": "1.5.0",
            "_view_name": "ProgressView",
            "bar_style": "success",
            "description": "",
            "description_tooltip": null,
            "layout": "IPY_MODEL_cdedc51fec81417e9283db92799cb290",
            "max": 16428,
            "min": 0,
            "orientation": "horizontal",
            "style": "IPY_MODEL_45d6c331fb2a4533a715490fc18b5992",
            "value": 16428
          }
        },
        "8d45a144c5f6408f8ed99508434bce08": {
          "model_module": "@jupyter-widgets/controls",
          "model_name": "HTMLModel",
          "model_module_version": "1.5.0",
          "state": {
            "_dom_classes": [],
            "_model_module": "@jupyter-widgets/controls",
            "_model_module_version": "1.5.0",
            "_model_name": "HTMLModel",
            "_view_count": null,
            "_view_module": "@jupyter-widgets/controls",
            "_view_module_version": "1.5.0",
            "_view_name": "HTMLView",
            "description": "",
            "description_tooltip": null,
            "layout": "IPY_MODEL_555918590e484f029890e5bd042812ee",
            "placeholder": "​",
            "style": "IPY_MODEL_9b810a995e4346c287d46657c8c0a474",
            "value": " 16428/16428 [00:13&lt;00:00, 1722.04 examples/s]"
          }
        },
        "7a18da9e8475475c9936a266a2dcb518": {
          "model_module": "@jupyter-widgets/base",
          "model_name": "LayoutModel",
          "model_module_version": "1.2.0",
          "state": {
            "_model_module": "@jupyter-widgets/base",
            "_model_module_version": "1.2.0",
            "_model_name": "LayoutModel",
            "_view_count": null,
            "_view_module": "@jupyter-widgets/base",
            "_view_module_version": "1.2.0",
            "_view_name": "LayoutView",
            "align_content": null,
            "align_items": null,
            "align_self": null,
            "border": null,
            "bottom": null,
            "display": null,
            "flex": null,
            "flex_flow": null,
            "grid_area": null,
            "grid_auto_columns": null,
            "grid_auto_flow": null,
            "grid_auto_rows": null,
            "grid_column": null,
            "grid_gap": null,
            "grid_row": null,
            "grid_template_areas": null,
            "grid_template_columns": null,
            "grid_template_rows": null,
            "height": null,
            "justify_content": null,
            "justify_items": null,
            "left": null,
            "margin": null,
            "max_height": null,
            "max_width": null,
            "min_height": null,
            "min_width": null,
            "object_fit": null,
            "object_position": null,
            "order": null,
            "overflow": null,
            "overflow_x": null,
            "overflow_y": null,
            "padding": null,
            "right": null,
            "top": null,
            "visibility": null,
            "width": null
          }
        },
        "9d794640f68e4caba88f4af0d29f9bae": {
          "model_module": "@jupyter-widgets/base",
          "model_name": "LayoutModel",
          "model_module_version": "1.2.0",
          "state": {
            "_model_module": "@jupyter-widgets/base",
            "_model_module_version": "1.2.0",
            "_model_name": "LayoutModel",
            "_view_count": null,
            "_view_module": "@jupyter-widgets/base",
            "_view_module_version": "1.2.0",
            "_view_name": "LayoutView",
            "align_content": null,
            "align_items": null,
            "align_self": null,
            "border": null,
            "bottom": null,
            "display": null,
            "flex": null,
            "flex_flow": null,
            "grid_area": null,
            "grid_auto_columns": null,
            "grid_auto_flow": null,
            "grid_auto_rows": null,
            "grid_column": null,
            "grid_gap": null,
            "grid_row": null,
            "grid_template_areas": null,
            "grid_template_columns": null,
            "grid_template_rows": null,
            "height": null,
            "justify_content": null,
            "justify_items": null,
            "left": null,
            "margin": null,
            "max_height": null,
            "max_width": null,
            "min_height": null,
            "min_width": null,
            "object_fit": null,
            "object_position": null,
            "order": null,
            "overflow": null,
            "overflow_x": null,
            "overflow_y": null,
            "padding": null,
            "right": null,
            "top": null,
            "visibility": null,
            "width": null
          }
        },
        "b32d0eb3668b48b2954f4e2982022f5d": {
          "model_module": "@jupyter-widgets/controls",
          "model_name": "DescriptionStyleModel",
          "model_module_version": "1.5.0",
          "state": {
            "_model_module": "@jupyter-widgets/controls",
            "_model_module_version": "1.5.0",
            "_model_name": "DescriptionStyleModel",
            "_view_count": null,
            "_view_module": "@jupyter-widgets/base",
            "_view_module_version": "1.2.0",
            "_view_name": "StyleView",
            "description_width": ""
          }
        },
        "cdedc51fec81417e9283db92799cb290": {
          "model_module": "@jupyter-widgets/base",
          "model_name": "LayoutModel",
          "model_module_version": "1.2.0",
          "state": {
            "_model_module": "@jupyter-widgets/base",
            "_model_module_version": "1.2.0",
            "_model_name": "LayoutModel",
            "_view_count": null,
            "_view_module": "@jupyter-widgets/base",
            "_view_module_version": "1.2.0",
            "_view_name": "LayoutView",
            "align_content": null,
            "align_items": null,
            "align_self": null,
            "border": null,
            "bottom": null,
            "display": null,
            "flex": null,
            "flex_flow": null,
            "grid_area": null,
            "grid_auto_columns": null,
            "grid_auto_flow": null,
            "grid_auto_rows": null,
            "grid_column": null,
            "grid_gap": null,
            "grid_row": null,
            "grid_template_areas": null,
            "grid_template_columns": null,
            "grid_template_rows": null,
            "height": null,
            "justify_content": null,
            "justify_items": null,
            "left": null,
            "margin": null,
            "max_height": null,
            "max_width": null,
            "min_height": null,
            "min_width": null,
            "object_fit": null,
            "object_position": null,
            "order": null,
            "overflow": null,
            "overflow_x": null,
            "overflow_y": null,
            "padding": null,
            "right": null,
            "top": null,
            "visibility": null,
            "width": null
          }
        },
        "45d6c331fb2a4533a715490fc18b5992": {
          "model_module": "@jupyter-widgets/controls",
          "model_name": "ProgressStyleModel",
          "model_module_version": "1.5.0",
          "state": {
            "_model_module": "@jupyter-widgets/controls",
            "_model_module_version": "1.5.0",
            "_model_name": "ProgressStyleModel",
            "_view_count": null,
            "_view_module": "@jupyter-widgets/base",
            "_view_module_version": "1.2.0",
            "_view_name": "StyleView",
            "bar_color": null,
            "description_width": ""
          }
        },
        "555918590e484f029890e5bd042812ee": {
          "model_module": "@jupyter-widgets/base",
          "model_name": "LayoutModel",
          "model_module_version": "1.2.0",
          "state": {
            "_model_module": "@jupyter-widgets/base",
            "_model_module_version": "1.2.0",
            "_model_name": "LayoutModel",
            "_view_count": null,
            "_view_module": "@jupyter-widgets/base",
            "_view_module_version": "1.2.0",
            "_view_name": "LayoutView",
            "align_content": null,
            "align_items": null,
            "align_self": null,
            "border": null,
            "bottom": null,
            "display": null,
            "flex": null,
            "flex_flow": null,
            "grid_area": null,
            "grid_auto_columns": null,
            "grid_auto_flow": null,
            "grid_auto_rows": null,
            "grid_column": null,
            "grid_gap": null,
            "grid_row": null,
            "grid_template_areas": null,
            "grid_template_columns": null,
            "grid_template_rows": null,
            "height": null,
            "justify_content": null,
            "justify_items": null,
            "left": null,
            "margin": null,
            "max_height": null,
            "max_width": null,
            "min_height": null,
            "min_width": null,
            "object_fit": null,
            "object_position": null,
            "order": null,
            "overflow": null,
            "overflow_x": null,
            "overflow_y": null,
            "padding": null,
            "right": null,
            "top": null,
            "visibility": null,
            "width": null
          }
        },
        "9b810a995e4346c287d46657c8c0a474": {
          "model_module": "@jupyter-widgets/controls",
          "model_name": "DescriptionStyleModel",
          "model_module_version": "1.5.0",
          "state": {
            "_model_module": "@jupyter-widgets/controls",
            "_model_module_version": "1.5.0",
            "_model_name": "DescriptionStyleModel",
            "_view_count": null,
            "_view_module": "@jupyter-widgets/base",
            "_view_module_version": "1.2.0",
            "_view_name": "StyleView",
            "description_width": ""
          }
        }
      }
    },
    "kaggle": {
      "accelerator": "nvidiaTeslaT4",
      "dataSources": [],
      "dockerImageVersionId": 30674,
      "isInternetEnabled": true,
      "language": "python",
      "sourceType": "notebook",
      "isGpuEnabled": true
    }
  },
  "nbformat_minor": 0,
  "nbformat": 4,
  "cells": [
    {
      "cell_type": "markdown",
      "metadata": {
        "id": "view-in-github",
        "colab_type": "text"
      },
      "source": [
        "<a href=\"https://colab.research.google.com/github/Prkhar05/Tiny_Text2SQL/blob/main/TinyTrain_Gemma_it.ipynb\" target=\"_parent\"><img src=\"https://colab.research.google.com/assets/colab-badge.svg\" alt=\"Open In Colab\"/></a>"
      ]
    },
    {
      "cell_type": "markdown",
      "source": [
        "# Installations and Imports"
      ],
      "metadata": {
        "id": "8ET5CQCes3eQ"
      }
    },
    {
      "cell_type": "code",
      "source": [
        "!pip install -U -q accelerate peft bitsandbytes git+https://github.com/huggingface/transformers trl datasets transformers[sentencepiece]"
      ],
      "metadata": {
        "id": "GLXwJqbjtPho",
        "outputId": "2fdbda78-999c-4266-8bbe-ef07a155d038",
        "execution": {
          "iopub.status.busy": "2024-04-15T13:43:24.989555Z",
          "iopub.execute_input": "2024-04-15T13:43:24.990386Z",
          "iopub.status.idle": "2024-04-15T13:44:00.414774Z",
          "shell.execute_reply.started": "2024-04-15T13:43:24.990348Z",
          "shell.execute_reply": "2024-04-15T13:44:00.413685Z"
        },
        "trusted": true,
        "colab": {
          "base_uri": "https://localhost:8080/"
        }
      },
      "execution_count": null,
      "outputs": [
        {
          "output_type": "stream",
          "name": "stdout",
          "text": [
            "  Installing build dependencies ... \u001b[?25l\u001b[?25hdone\n",
            "  Getting requirements to build wheel ... \u001b[?25l\u001b[?25hdone\n",
            "  Preparing metadata (pyproject.toml) ... \u001b[?25l\u001b[?25hdone\n"
          ]
        }
      ]
    },
    {
      "cell_type": "code",
      "source": [
        "!pip install -U -q datasets==2.16.0"
      ],
      "metadata": {
        "execution": {
          "iopub.status.busy": "2024-04-15T13:44:00.416769Z",
          "iopub.execute_input": "2024-04-15T13:44:00.417055Z",
          "iopub.status.idle": "2024-04-15T13:44:13.542295Z",
          "shell.execute_reply.started": "2024-04-15T13:44:00.417027Z",
          "shell.execute_reply": "2024-04-15T13:44:13.541069Z"
        },
        "trusted": true,
        "id": "k4htF4dc8Wmn"
      },
      "execution_count": null,
      "outputs": []
    },
    {
      "cell_type": "code",
      "source": [
        "import torch\n",
        "from datasets import load_dataset,Dataset\n",
        "from transformers import (\n",
        "    AutoModelForCausalLM,\n",
        "    AutoTokenizer,\n",
        "    BitsAndBytesConfig,\n",
        "    TrainingArguments,\n",
        "    pipeline,\n",
        "    logging,\n",
        ")\n",
        "from peft import LoraConfig, PeftConfig, PeftModel,get_peft_model\n",
        "from trl import SFTTrainer\n"
      ],
      "metadata": {
        "id": "nAMzy_0FtaUZ",
        "execution": {
          "iopub.status.busy": "2024-04-16T06:24:17.9383Z",
          "iopub.execute_input": "2024-04-16T06:24:17.938618Z",
          "iopub.status.idle": "2024-04-16T06:24:53.799436Z",
          "shell.execute_reply.started": "2024-04-16T06:24:17.938594Z",
          "shell.execute_reply": "2024-04-16T06:24:53.798368Z"
        },
        "trusted": true
      },
      "execution_count": null,
      "outputs": []
    },
    {
      "cell_type": "code",
      "source": [
        "# from kaggle_secrets import UserSecretsClient\n",
        "# user_secrets = UserSecretsClient()\n",
        "# secret_hf = user_secrets.get_secret(\"HUGGINGFACE_TOKEN\")\n",
        "# secret_wandb = user_secrets.get_secret(\"wandb\")"
      ],
      "metadata": {
        "execution": {
          "iopub.status.busy": "2024-04-16T06:24:06.976594Z",
          "iopub.execute_input": "2024-04-16T06:24:06.976932Z",
          "iopub.status.idle": "2024-04-16T06:24:07.235285Z",
          "shell.execute_reply.started": "2024-04-16T06:24:06.976903Z",
          "shell.execute_reply": "2024-04-16T06:24:07.234584Z"
        },
        "trusted": true,
        "id": "kmK5sZKL8Wmn"
      },
      "execution_count": null,
      "outputs": []
    },
    {
      "cell_type": "code",
      "source": [
        "# !huggingface-cli login --token"
      ],
      "metadata": {
        "execution": {
          "iopub.status.busy": "2024-04-15T13:44:21.039967Z",
          "iopub.execute_input": "2024-04-15T13:44:21.040238Z",
          "iopub.status.idle": "2024-04-15T13:44:22.638301Z",
          "shell.execute_reply.started": "2024-04-15T13:44:21.040213Z",
          "shell.execute_reply": "2024-04-15T13:44:22.637111Z"
        },
        "trusted": true,
        "id": "17JX6Gvi8Wmo",
        "outputId": "5d3787ba-fc52-4f8a-b20f-3682dfc383fc",
        "colab": {
          "base_uri": "https://localhost:8080/"
        }
      },
      "execution_count": null,
      "outputs": [
        {
          "output_type": "stream",
          "name": "stdout",
          "text": [
            "Token will not been saved to git credential helper. Pass `add_to_git_credential=True` if you want to set the git credential as well.\n",
            "Token is valid (permission: write).\n",
            "Your token has been saved to /root/.cache/huggingface/token\n",
            "Login successful\n"
          ]
        }
      ]
    },
    {
      "cell_type": "code",
      "source": [
        "use_auth_token=True"
      ],
      "metadata": {
        "execution": {
          "iopub.status.busy": "2024-04-15T13:44:22.640064Z",
          "iopub.execute_input": "2024-04-15T13:44:22.641067Z",
          "iopub.status.idle": "2024-04-15T13:44:22.64582Z",
          "shell.execute_reply.started": "2024-04-15T13:44:22.641021Z",
          "shell.execute_reply": "2024-04-15T13:44:22.644895Z"
        },
        "trusted": true,
        "id": "172QkQ0l8Wmo"
      },
      "execution_count": null,
      "outputs": []
    },
    {
      "cell_type": "code",
      "source": [
        "!pip install wandb"
      ],
      "metadata": {
        "colab": {
          "base_uri": "https://localhost:8080/"
        },
        "id": "MYh0iYb6TX6l",
        "outputId": "a0bd5386-9a05-4087-84f8-341098e96544"
      },
      "execution_count": null,
      "outputs": [
        {
          "output_type": "stream",
          "name": "stdout",
          "text": [
            "Requirement already satisfied: wandb in /usr/local/lib/python3.10/dist-packages (0.16.6)\n",
            "Requirement already satisfied: Click!=8.0.0,>=7.1 in /usr/local/lib/python3.10/dist-packages (from wandb) (8.1.7)\n",
            "Requirement already satisfied: GitPython!=3.1.29,>=1.0.0 in /usr/local/lib/python3.10/dist-packages (from wandb) (3.1.43)\n",
            "Requirement already satisfied: requests<3,>=2.0.0 in /usr/local/lib/python3.10/dist-packages (from wandb) (2.31.0)\n",
            "Requirement already satisfied: psutil>=5.0.0 in /usr/local/lib/python3.10/dist-packages (from wandb) (5.9.5)\n",
            "Requirement already satisfied: sentry-sdk>=1.0.0 in /usr/local/lib/python3.10/dist-packages (from wandb) (1.45.0)\n",
            "Requirement already satisfied: docker-pycreds>=0.4.0 in /usr/local/lib/python3.10/dist-packages (from wandb) (0.4.0)\n",
            "Requirement already satisfied: PyYAML in /usr/local/lib/python3.10/dist-packages (from wandb) (6.0.1)\n",
            "Requirement already satisfied: setproctitle in /usr/local/lib/python3.10/dist-packages (from wandb) (1.3.3)\n",
            "Requirement already satisfied: setuptools in /usr/local/lib/python3.10/dist-packages (from wandb) (67.7.2)\n",
            "Requirement already satisfied: appdirs>=1.4.3 in /usr/local/lib/python3.10/dist-packages (from wandb) (1.4.4)\n",
            "Requirement already satisfied: protobuf!=4.21.0,<5,>=3.19.0 in /usr/local/lib/python3.10/dist-packages (from wandb) (3.20.3)\n",
            "Requirement already satisfied: six>=1.4.0 in /usr/local/lib/python3.10/dist-packages (from docker-pycreds>=0.4.0->wandb) (1.16.0)\n",
            "Requirement already satisfied: gitdb<5,>=4.0.1 in /usr/local/lib/python3.10/dist-packages (from GitPython!=3.1.29,>=1.0.0->wandb) (4.0.11)\n",
            "Requirement already satisfied: charset-normalizer<4,>=2 in /usr/local/lib/python3.10/dist-packages (from requests<3,>=2.0.0->wandb) (3.3.2)\n",
            "Requirement already satisfied: idna<4,>=2.5 in /usr/local/lib/python3.10/dist-packages (from requests<3,>=2.0.0->wandb) (3.7)\n",
            "Requirement already satisfied: urllib3<3,>=1.21.1 in /usr/local/lib/python3.10/dist-packages (from requests<3,>=2.0.0->wandb) (2.0.7)\n",
            "Requirement already satisfied: certifi>=2017.4.17 in /usr/local/lib/python3.10/dist-packages (from requests<3,>=2.0.0->wandb) (2024.2.2)\n",
            "Requirement already satisfied: smmap<6,>=3.0.1 in /usr/local/lib/python3.10/dist-packages (from gitdb<5,>=4.0.1->GitPython!=3.1.29,>=1.0.0->wandb) (5.0.1)\n"
          ]
        }
      ]
    },
    {
      "cell_type": "code",
      "source": [
        "import wandb\n",
        "wandb.login(key=\"0d08dc6eea8c357e2d10ab5ee7e85b4ac6cf4254\")"
      ],
      "metadata": {
        "execution": {
          "iopub.status.busy": "2024-04-16T06:25:06.346052Z",
          "iopub.execute_input": "2024-04-16T06:25:06.346437Z",
          "iopub.status.idle": "2024-04-16T06:25:09.366303Z",
          "shell.execute_reply.started": "2024-04-16T06:25:06.346409Z",
          "shell.execute_reply": "2024-04-16T06:25:09.365387Z"
        },
        "trusted": true,
        "id": "1zweNViX8Wmo",
        "colab": {
          "base_uri": "https://localhost:8080/"
        },
        "outputId": "2ef6dd1a-f5ca-4480-85e0-551699c26492"
      },
      "execution_count": null,
      "outputs": [
        {
          "output_type": "stream",
          "name": "stderr",
          "text": [
            "\u001b[34m\u001b[1mwandb\u001b[0m: Currently logged in as: \u001b[33mprkharmishra05\u001b[0m. Use \u001b[1m`wandb login --relogin`\u001b[0m to force relogin\n",
            "\u001b[34m\u001b[1mwandb\u001b[0m: \u001b[33mWARNING\u001b[0m If you're specifying your api key in code, ensure this code is not shared publicly.\n",
            "\u001b[34m\u001b[1mwandb\u001b[0m: \u001b[33mWARNING\u001b[0m Consider setting the WANDB_API_KEY environment variable, or running `wandb login` from the command line.\n",
            "\u001b[34m\u001b[1mwandb\u001b[0m: Appending key for api.wandb.ai to your netrc file: /root/.netrc\n"
          ]
        },
        {
          "output_type": "execute_result",
          "data": {
            "text/plain": [
              "True"
            ]
          },
          "metadata": {},
          "execution_count": 7
        }
      ]
    },
    {
      "cell_type": "markdown",
      "source": [
        "# Setting the Fine-tuning Parameters"
      ],
      "metadata": {
        "id": "R9Av4fcrtGt6"
      }
    },
    {
      "cell_type": "code",
      "source": [
        "# The model that you want to train from the Hugging Face hub\n",
        "model_name = \"meta-llama/Meta-Llama-3-8B\"\n",
        "\n",
        "# # The instruction dataset to use\n",
        "dataset_name = \"PipableAI/pip-txt-to-sql-spider-bird-dataset\"\n",
        "\n",
        "# Fine-tuned model name\n",
        "new_model = \"sft-Meta-Llama-3-8B\"\n",
        "\n",
        "################################################################################\n",
        "# QLoRA parameters\n",
        "################################################################################\n",
        "\n",
        "# LoRA attention dimension\n",
        "lora_r = 64\n",
        "\n",
        "# Alpha parameter for LoRA scaling\n",
        "lora_alpha = 64\n",
        "\n",
        "# Dropout probability for LoRA layers\n",
        "lora_dropout = 0.1\n",
        "\n",
        "################################################################################\n",
        "# bitsandbytes parameters\n",
        "################################################################################\n",
        "\n",
        "# Activate 4-bit precision base model loading\n",
        "use_4bit = True\n",
        "\n",
        "# Compute dtype for 4-bit base models\n",
        "bnb_4bit_compute_dtype = \"float16\"\n",
        "\n",
        "# Quantization type (fp4 or nf4)\n",
        "bnb_4bit_quant_type = \"nf4\"\n",
        "\n",
        "# Activate nested quantization for 4-bit base models (double quantization)\n",
        "use_nested_quant = False\n",
        "\n",
        "################################################################################\n",
        "# TrainingArguments parameters\n",
        "################################################################################\n",
        "\n",
        "# Output directory where the model predictions and checkpoints will be stored\n",
        "output_dir = f\"./{new_model}\"\n",
        "\n",
        "# Number of training epochs\n",
        "num_train_epochs = 1\n",
        "\n",
        "# Enable fp16/bf16 training (set bf16 to True with an A100)\n",
        "fp16 = False\n",
        "bf16 = False\n",
        "\n",
        "# Batch size per GPU for training\n",
        "per_device_train_batch_size = 1\n",
        "\n",
        "# Batch size per GPU for evaluation\n",
        "per_device_eval_batch_size = 1\n",
        "\n",
        "# Number of update steps to accumulate the gradients for\n",
        "gradient_accumulation_steps = 1\n",
        "\n",
        "# Enable gradient checkpointing\n",
        "gradient_checkpointing = False\n",
        "\n",
        "# Maximum gradient normal (gradient clipping)\n",
        "max_grad_norm = 0.3\n",
        "\n",
        "# Initial learning rate (AdamW optimizer)\n",
        "learning_rate = 5e-4\n",
        "\n",
        "# Weight decay to apply to all layers except bias/LayerNorm weights\n",
        "weight_decay = 0.5\n",
        "\n",
        "# Optimizer to use\n",
        "optim = \"paged_adamw_32bit\"\n",
        "\n",
        "# Learning rate schedule\n",
        "lr_scheduler_type = \"cosine\"\n",
        "\n",
        "# Number of training steps (overrides num_train_epochs)\n",
        "max_steps = -1\n",
        "\n",
        "# Ratio of steps for a linear warmup (from 0 to learning rate)\n",
        "warmup_ratio = 0.03\n",
        "\n",
        "# Group sequences into batches with same length\n",
        "# Saves memory and speeds up training considerably\n",
        "group_by_length = True\n",
        "\n",
        "# Save checkpoint every X updates steps\n",
        "save_steps = 500\n",
        "\n",
        "# Log every X updates steps\n",
        "logging_steps = 100\n",
        "\n",
        "################################################################################\n",
        "# SFT parameters\n",
        "################################################################################\n",
        "\n",
        "# Maximum sequence length to use\n",
        "max_seq_length = 1800\n",
        "\n",
        "# Pack multiple short examples in the same input sequence to increase efficiency\n",
        "packing = False\n",
        "\n",
        "# Load the entire model on the GPU 0\n",
        "device_map = {\"\": 0}"
      ],
      "metadata": {
        "id": "ib_We3NLtj2E",
        "execution": {
          "iopub.status.busy": "2024-04-15T13:44:22.64729Z",
          "iopub.execute_input": "2024-04-15T13:44:22.647691Z",
          "iopub.status.idle": "2024-04-15T13:44:22.659048Z",
          "shell.execute_reply.started": "2024-04-15T13:44:22.647658Z",
          "shell.execute_reply": "2024-04-15T13:44:22.658342Z"
        },
        "trusted": true
      },
      "execution_count": null,
      "outputs": []
    },
    {
      "cell_type": "code",
      "source": [],
      "metadata": {
        "id": "2g6c87K58Wmp"
      },
      "execution_count": null,
      "outputs": []
    },
    {
      "cell_type": "code",
      "source": [],
      "metadata": {
        "id": "_zC9pLpY8Wmp"
      },
      "execution_count": null,
      "outputs": []
    },
    {
      "cell_type": "markdown",
      "source": [
        "# Fine-tuning and dataset loading"
      ],
      "metadata": {
        "id": "PyiEFo4JtULu"
      }
    },
    {
      "cell_type": "code",
      "source": [
        "dataset = load_dataset(dataset_name,split='train')\n",
        "def prompt_pip_sql(d):\n",
        "  prompt = f\"\"\"<schema>{d['schema']}</schema>\n",
        "    <question>{d['question']}</question>\n",
        "    <sql>{d['query']}</sql>\"\"\"\n",
        "  return prompt\n",
        "\n",
        "texts=[prompt_pip_sql(d) for d in dataset]\n",
        "data_proc = Dataset.from_dict({\"text\" : texts})"
      ],
      "metadata": {
        "id": "dPuNg2LlkPRA",
        "outputId": "c456f7e4-c5ab-4db9-8fdc-4f843b55b5cd",
        "execution": {
          "iopub.status.busy": "2024-04-15T13:44:22.660102Z",
          "iopub.execute_input": "2024-04-15T13:44:22.660358Z",
          "iopub.status.idle": "2024-04-15T13:44:22.675085Z",
          "shell.execute_reply.started": "2024-04-15T13:44:22.660335Z",
          "shell.execute_reply": "2024-04-15T13:44:22.67438Z"
        },
        "trusted": true,
        "colab": {
          "base_uri": "https://localhost:8080/"
        }
      },
      "execution_count": null,
      "outputs": [
        {
          "output_type": "stream",
          "name": "stderr",
          "text": [
            "/usr/local/lib/python3.10/dist-packages/huggingface_hub/utils/_token.py:88: UserWarning: \n",
            "The secret `HF_TOKEN` does not exist in your Colab secrets.\n",
            "To authenticate with the Hugging Face Hub, create a token in your settings tab (https://huggingface.co/settings/tokens), set it as secret in your Google Colab and restart your session.\n",
            "You will be able to reuse this secret in all of your notebooks.\n",
            "Please note that authentication is recommended but still optional to access public models or datasets.\n",
            "  warnings.warn(\n"
          ]
        }
      ]
    },
    {
      "cell_type": "code",
      "source": [
        "# #Importing the dataset\n",
        "# from datasets import load_dataset\n",
        "# dataset = load_dataset(dataset_name, split=\"small_train\")\n",
        "# eval_dataset = load_dataset(dataset_name, split=\"small_validation\")\n",
        "\n",
        "# dataset[\"prompt\"][100]"
      ],
      "metadata": {
        "execution": {
          "iopub.status.busy": "2024-04-15T13:44:22.676198Z",
          "iopub.execute_input": "2024-04-15T13:44:22.676468Z",
          "iopub.status.idle": "2024-04-15T13:44:30.716003Z",
          "shell.execute_reply.started": "2024-04-15T13:44:22.676442Z",
          "shell.execute_reply": "2024-04-15T13:44:30.714976Z"
        },
        "trusted": true,
        "id": "zQG9GGBF8Wmp"
      },
      "execution_count": null,
      "outputs": []
    },
    {
      "cell_type": "code",
      "source": [
        "compute_dtype = getattr(torch, bnb_4bit_compute_dtype)\n",
        "bnb_config = BitsAndBytesConfig(\n",
        "    load_in_4bit=use_4bit,\n",
        "    bnb_4bit_quant_type=bnb_4bit_quant_type,\n",
        "    bnb_4bit_compute_dtype=compute_dtype,\n",
        "    bnb_4bit_use_double_quant=use_nested_quant,\n",
        ")"
      ],
      "metadata": {
        "id": "vcChN7tslCL9",
        "execution": {
          "iopub.status.busy": "2024-04-15T13:44:30.719856Z",
          "iopub.execute_input": "2024-04-15T13:44:30.720157Z",
          "iopub.status.idle": "2024-04-15T13:44:30.726934Z",
          "shell.execute_reply.started": "2024-04-15T13:44:30.720129Z",
          "shell.execute_reply": "2024-04-15T13:44:30.725914Z"
        },
        "trusted": true
      },
      "execution_count": null,
      "outputs": []
    },
    {
      "cell_type": "code",
      "source": [
        "model = AutoModelForCausalLM.from_pretrained(\n",
        "    model_name,\n",
        "    quantization_config=bnb_config,\n",
        "    device_map=\"auto\"\n",
        ")\n",
        "# from accelerate import PartialState\n",
        "\n",
        "# model = AutoModelForCausalLM.from_pretrained(model_name,\n",
        "#   low_cpu_mem_usage=True,\n",
        "#   torch_dtype=torch.float16,\n",
        "#   load_in_8bit=True,\n",
        "#   device_map={\"\": PartialState().process_index},)\n",
        "\n",
        "model.config.use_cache = False\n",
        "model.config.pretraining_tp = 1\n",
        "\n",
        "tokenizer = AutoTokenizer.from_pretrained(model_name, use_fast=True)\n",
        "tokenizer.pad_token = tokenizer.eos_token\n",
        "tokenizer.padding_side = \"right\" # Fix weird overflow issue with fp16 training"
      ],
      "metadata": {
        "id": "HYYUmsl6lC_U",
        "outputId": "c26327a7-1872-46ac-ce42-ef97ee8dfa57",
        "execution": {
          "iopub.status.busy": "2024-04-15T13:44:30.728152Z",
          "iopub.execute_input": "2024-04-15T13:44:30.728461Z",
          "iopub.status.idle": "2024-04-15T13:44:37.176589Z",
          "shell.execute_reply.started": "2024-04-15T13:44:30.728433Z",
          "shell.execute_reply": "2024-04-15T13:44:37.175762Z"
        },
        "trusted": true,
        "colab": {
          "base_uri": "https://localhost:8080/",
          "height": 66,
          "referenced_widgets": [
            "d27e72811f884d8fb21b15da1bb24021",
            "ea2427ecd944420983f4ac0b4daf8613",
            "b12c82eeec00490790797e4d6dc3b53d",
            "bf11ec6840a049e4a821cc408c16e5f7",
            "618e8d2d473c4a688707ac732546b702",
            "85cc6f556a584ec88c3aaebabe1c3552",
            "9457bdc7edc94cd3a3faa2ebdfc7ef6b",
            "d15923b72db44631a92fae5446eb7fe2",
            "4c7dbc1cf8f64d41a9eb91bcaaa54563",
            "6c758e7dd9c243608cf95a40f2d9733c",
            "50a403c1492d4615add41a3f06042d33"
          ]
        }
      },
      "execution_count": null,
      "outputs": [
        {
          "output_type": "display_data",
          "data": {
            "text/plain": [
              "Loading checkpoint shards:   0%|          | 0/4 [00:00<?, ?it/s]"
            ],
            "application/vnd.jupyter.widget-view+json": {
              "version_major": 2,
              "version_minor": 0,
              "model_id": "d27e72811f884d8fb21b15da1bb24021"
            }
          },
          "metadata": {}
        },
        {
          "output_type": "stream",
          "name": "stderr",
          "text": [
            "Special tokens have been added in the vocabulary, make sure the associated word embeddings are fine-tuned or trained.\n"
          ]
        }
      ]
    },
    {
      "cell_type": "code",
      "source": [
        "print(model)"
      ],
      "metadata": {
        "id": "fLQ4YhNhqWYv",
        "outputId": "2970db01-6230-4e15-ff3b-3803e7a7b9fe",
        "execution": {
          "iopub.status.busy": "2024-04-15T13:44:37.17795Z",
          "iopub.execute_input": "2024-04-15T13:44:37.178337Z",
          "iopub.status.idle": "2024-04-15T13:44:37.184744Z",
          "shell.execute_reply.started": "2024-04-15T13:44:37.1783Z",
          "shell.execute_reply": "2024-04-15T13:44:37.183657Z"
        },
        "trusted": true,
        "colab": {
          "base_uri": "https://localhost:8080/"
        }
      },
      "execution_count": null,
      "outputs": [
        {
          "output_type": "stream",
          "name": "stdout",
          "text": [
            "LlamaForCausalLM(\n",
            "  (model): LlamaModel(\n",
            "    (embed_tokens): Embedding(128256, 4096)\n",
            "    (layers): ModuleList(\n",
            "      (0-31): 32 x LlamaDecoderLayer(\n",
            "        (self_attn): LlamaSdpaAttention(\n",
            "          (q_proj): Linear4bit(in_features=4096, out_features=4096, bias=False)\n",
            "          (k_proj): Linear4bit(in_features=4096, out_features=1024, bias=False)\n",
            "          (v_proj): Linear4bit(in_features=4096, out_features=1024, bias=False)\n",
            "          (o_proj): Linear4bit(in_features=4096, out_features=4096, bias=False)\n",
            "          (rotary_emb): LlamaRotaryEmbedding()\n",
            "        )\n",
            "        (mlp): LlamaMLP(\n",
            "          (gate_proj): Linear4bit(in_features=4096, out_features=14336, bias=False)\n",
            "          (up_proj): Linear4bit(in_features=4096, out_features=14336, bias=False)\n",
            "          (down_proj): Linear4bit(in_features=14336, out_features=4096, bias=False)\n",
            "          (act_fn): SiLU()\n",
            "        )\n",
            "        (input_layernorm): LlamaRMSNorm()\n",
            "        (post_attention_layernorm): LlamaRMSNorm()\n",
            "      )\n",
            "    )\n",
            "    (norm): LlamaRMSNorm()\n",
            "  )\n",
            "  (lm_head): Linear(in_features=4096, out_features=128256, bias=False)\n",
            ")\n"
          ]
        }
      ]
    },
    {
      "cell_type": "code",
      "source": [
        "# print(model.transformer)"
      ],
      "metadata": {
        "id": "4p4srIWItNVY",
        "execution": {
          "iopub.status.busy": "2024-04-15T13:44:37.186124Z",
          "iopub.execute_input": "2024-04-15T13:44:37.186487Z",
          "iopub.status.idle": "2024-04-15T13:44:37.197174Z",
          "shell.execute_reply.started": "2024-04-15T13:44:37.186435Z",
          "shell.execute_reply": "2024-04-15T13:44:37.19612Z"
        },
        "trusted": true
      },
      "execution_count": null,
      "outputs": []
    },
    {
      "cell_type": "code",
      "source": [
        "def print_trainable_parameters(model):\n",
        "    trainable_params = 0\n",
        "    all_param = 0\n",
        "    for _, param in model.named_parameters():\n",
        "        all_param += param.numel()\n",
        "        if param.requires_grad:\n",
        "            trainable_params += param.numel()\n",
        "    print(\n",
        "        f\"trainable params: {trainable_params} || all params: {all_param} || trainable%: {100 * trainable_params / all_param:.2f}\"\n",
        "    )\n",
        "print_trainable_parameters(model)\n",
        "# model.named_parameters()"
      ],
      "metadata": {
        "id": "sFbMCpl7231E",
        "outputId": "ea4898fa-670c-4d6a-99a5-263ef2bd95be",
        "execution": {
          "iopub.status.busy": "2024-04-15T13:44:37.198271Z",
          "iopub.execute_input": "2024-04-15T13:44:37.198536Z",
          "iopub.status.idle": "2024-04-15T13:44:37.208531Z",
          "shell.execute_reply.started": "2024-04-15T13:44:37.198511Z",
          "shell.execute_reply": "2024-04-15T13:44:37.207656Z"
        },
        "trusted": true,
        "colab": {
          "base_uri": "https://localhost:8080/"
        }
      },
      "execution_count": null,
      "outputs": [
        {
          "output_type": "stream",
          "name": "stdout",
          "text": [
            "trainable params: 1050939392 || all params: 4540600320 || trainable%: 23.15\n"
          ]
        }
      ]
    },
    {
      "cell_type": "code",
      "source": [
        "# target_modules=[\"q_proj\", \"v_proj\"]\n",
        "# target_modules=[\"q\", \"v\"]\n",
        "# target_modules=[\"query_key_value\"]\n",
        "# target_modules=None\n",
        "# target_modules=\"all-linear\"\n",
        "\n",
        "# def find_all_linear_names(model):\n",
        "#     lora_module_names = set()\n",
        "#     for name, module in model.named_modules():\n",
        "#         if isinstance(module, bnb.nn.Linear4bit):\n",
        "#             names = name.split(\".\")\n",
        "#             lora_module_names.add(names[0] if len(names) == 1 else names[-1])\n",
        "\n",
        "#     if \"lm_head\" in lora_module_names:  # needed for 16-bit\n",
        "#         lora_module_names.remove(\"lm_head\")\n",
        "#     return list(lora_module_names)\n",
        "\n",
        "# def get_specific_layer_names(model):\n",
        "#     layer_names = []\n",
        "#         for name, module in model.named_modules():\n",
        "#         if isinstance(module, (torch.nn.Linear, torch.nn.Embedding, torch.nn.Conv2d, Conv1D)):\n",
        "#             layer_names.append('.'.join(name.split('.')[4:]).split('.')[0])\n",
        "\n",
        "#     return layer_names"
      ],
      "metadata": {
        "id": "C5H6_CxmaVaP",
        "execution": {
          "iopub.status.busy": "2024-04-15T13:44:37.209696Z",
          "iopub.execute_input": "2024-04-15T13:44:37.210006Z",
          "iopub.status.idle": "2024-04-15T13:44:37.221429Z",
          "shell.execute_reply.started": "2024-04-15T13:44:37.209981Z",
          "shell.execute_reply": "2024-04-15T13:44:37.220501Z"
        },
        "trusted": true
      },
      "execution_count": null,
      "outputs": []
    },
    {
      "cell_type": "code",
      "source": [
        "peft_config = LoraConfig(\n",
        "    lora_alpha=lora_alpha,\n",
        "    lora_dropout=lora_dropout,\n",
        "    r=lora_r,\n",
        "    target_modules=[\n",
        "            \"q_proj\",\n",
        "            \"v_proj\",\n",
        "            \"k_proj\",\n",
        "            \"out_proj\",\n",
        "            \"fc_in\",\n",
        "            \"fc_out\",\n",
        "            \"wte\",\n",
        "        ],\n",
        "    bias=\"none\",\n",
        "    task_type=\"CAUSAL_LM\",\n",
        ")"
      ],
      "metadata": {
        "id": "rDLpj7XdlG3_",
        "execution": {
          "iopub.status.busy": "2024-04-15T13:44:37.222414Z",
          "iopub.execute_input": "2024-04-15T13:44:37.222697Z",
          "iopub.status.idle": "2024-04-15T13:44:37.230832Z",
          "shell.execute_reply.started": "2024-04-15T13:44:37.222671Z",
          "shell.execute_reply": "2024-04-15T13:44:37.230009Z"
        },
        "trusted": true
      },
      "execution_count": null,
      "outputs": []
    },
    {
      "cell_type": "code",
      "source": [
        "m=get_peft_model(model,peft_config)\n",
        "m.print_trainable_parameters()"
      ],
      "metadata": {
        "id": "CbhxjFDjeZnw",
        "outputId": "5a7dbf83-f902-4cfd-f844-2ffbe13ee560",
        "execution": {
          "iopub.status.busy": "2024-04-15T13:44:37.231779Z",
          "iopub.execute_input": "2024-04-15T13:44:37.232022Z",
          "iopub.status.idle": "2024-04-15T13:44:37.902152Z",
          "shell.execute_reply.started": "2024-04-15T13:44:37.231999Z",
          "shell.execute_reply": "2024-04-15T13:44:37.901226Z"
        },
        "trusted": true,
        "colab": {
          "base_uri": "https://localhost:8080/"
        }
      },
      "execution_count": null,
      "outputs": [
        {
          "output_type": "stream",
          "name": "stdout",
          "text": [
            "trainable params: 37,748,736 || all params: 8,068,009,984 || trainable%: 0.4678816222942344\n"
          ]
        }
      ]
    },
    {
      "cell_type": "code",
      "source": [
        "# from huggingface_hub import notebook_login\n",
        "# notebook_login()"
      ],
      "metadata": {
        "execution": {
          "iopub.status.busy": "2024-04-15T13:44:37.903461Z",
          "iopub.execute_input": "2024-04-15T13:44:37.903926Z",
          "iopub.status.idle": "2024-04-15T13:44:37.908505Z",
          "shell.execute_reply.started": "2024-04-15T13:44:37.90389Z",
          "shell.execute_reply": "2024-04-15T13:44:37.907596Z"
        },
        "trusted": true,
        "id": "faSeLL2y8Wmq"
      },
      "execution_count": null,
      "outputs": []
    },
    {
      "cell_type": "code",
      "source": [
        "training_arguments = TrainingArguments(\n",
        "    output_dir=output_dir,\n",
        "    num_train_epochs=num_train_epochs,\n",
        "    per_device_train_batch_size=per_device_train_batch_size,\n",
        "    gradient_accumulation_steps=gradient_accumulation_steps,\n",
        "    optim=optim,\n",
        "    save_steps=save_steps,\n",
        "    logging_steps=logging_steps,\n",
        "    learning_rate=learning_rate,\n",
        "    weight_decay=weight_decay,\n",
        "    fp16=fp16,\n",
        "    bf16=bf16,\n",
        "    max_grad_norm=max_grad_norm,\n",
        "    max_steps=max_steps,\n",
        "    warmup_ratio=warmup_ratio,\n",
        "    group_by_length=group_by_length,\n",
        "    lr_scheduler_type=lr_scheduler_type,\n",
        "#     push_to_hub = True,\n",
        "    )"
      ],
      "metadata": {
        "id": "CuDo6wBtlGrP",
        "execution": {
          "iopub.status.busy": "2024-04-15T13:44:37.909632Z",
          "iopub.execute_input": "2024-04-15T13:44:37.90992Z",
          "iopub.status.idle": "2024-04-15T13:44:37.947974Z",
          "shell.execute_reply.started": "2024-04-15T13:44:37.909896Z",
          "shell.execute_reply": "2024-04-15T13:44:37.947106Z"
        },
        "trusted": true
      },
      "execution_count": null,
      "outputs": []
    },
    {
      "cell_type": "code",
      "source": [
        "# Setting sft parameters\n",
        "trainer = SFTTrainer(\n",
        "    model=model,\n",
        "    train_dataset=data_proc,\n",
        "    peft_config=peft_config,\n",
        "    max_seq_length= None,\n",
        "    dataset_text_field=\"text\",\n",
        "    tokenizer=tokenizer,\n",
        "    args=training_arguments,\n",
        "    packing= False,\n",
        ")"
      ],
      "metadata": {
        "id": "mxA9seellME-",
        "outputId": "71f7a0ed-64e0-41de-f4af-8fc5c31e9543",
        "execution": {
          "iopub.status.busy": "2024-04-15T13:44:37.949179Z",
          "iopub.execute_input": "2024-04-15T13:44:37.94983Z",
          "iopub.status.idle": "2024-04-15T13:44:40.251774Z",
          "shell.execute_reply.started": "2024-04-15T13:44:37.949796Z",
          "shell.execute_reply": "2024-04-15T13:44:40.250956Z"
        },
        "trusted": true,
        "colab": {
          "base_uri": "https://localhost:8080/",
          "height": 84,
          "referenced_widgets": [
            "63c4405bc37341179d1060844cb5b265",
            "827790904bea4f2da4f6a3db34eb3960",
            "0b7792cc09cb420fab0d9a5a2321238f",
            "8d45a144c5f6408f8ed99508434bce08",
            "7a18da9e8475475c9936a266a2dcb518",
            "9d794640f68e4caba88f4af0d29f9bae",
            "b32d0eb3668b48b2954f4e2982022f5d",
            "cdedc51fec81417e9283db92799cb290",
            "45d6c331fb2a4533a715490fc18b5992",
            "555918590e484f029890e5bd042812ee",
            "9b810a995e4346c287d46657c8c0a474"
          ]
        }
      },
      "execution_count": null,
      "outputs": [
        {
          "output_type": "stream",
          "name": "stderr",
          "text": [
            "/usr/local/lib/python3.10/dist-packages/trl/trainer/sft_trainer.py:246: UserWarning: You didn't pass a `max_seq_length` argument to the SFTTrainer, this will default to 1024\n",
            "  warnings.warn(\n"
          ]
        },
        {
          "output_type": "display_data",
          "data": {
            "text/plain": [
              "Map:   0%|          | 0/16428 [00:00<?, ? examples/s]"
            ],
            "application/vnd.jupyter.widget-view+json": {
              "version_major": 2,
              "version_minor": 0,
              "model_id": "63c4405bc37341179d1060844cb5b265"
            }
          },
          "metadata": {}
        }
      ]
    },
    {
      "cell_type": "code",
      "source": [
        "trainer.is_model_parallel"
      ],
      "metadata": {
        "execution": {
          "iopub.status.busy": "2024-04-15T13:44:40.25296Z",
          "iopub.execute_input": "2024-04-15T13:44:40.253299Z",
          "iopub.status.idle": "2024-04-15T13:44:40.25922Z",
          "shell.execute_reply.started": "2024-04-15T13:44:40.253264Z",
          "shell.execute_reply": "2024-04-15T13:44:40.258207Z"
        },
        "trusted": true,
        "id": "Y3aH5jrK8Wmq",
        "outputId": "4e466eff-2f60-4d92-e0df-67d6714cf0cc",
        "colab": {
          "base_uri": "https://localhost:8080/"
        }
      },
      "execution_count": null,
      "outputs": [
        {
          "output_type": "execute_result",
          "data": {
            "text/plain": [
              "False"
            ]
          },
          "metadata": {},
          "execution_count": 18
        }
      ]
    },
    {
      "cell_type": "code",
      "source": [
        "trainer.train()\n",
        "trainer.model.save_pretrained(new_model)"
      ],
      "metadata": {
        "id": "fSgpcw7dXFra",
        "execution": {
          "iopub.status.busy": "2024-04-15T13:44:40.260551Z",
          "iopub.execute_input": "2024-04-15T13:44:40.260859Z",
          "iopub.status.idle": "2024-04-15T15:33:21.38395Z",
          "shell.execute_reply.started": "2024-04-15T13:44:40.260834Z",
          "shell.execute_reply": "2024-04-15T15:33:21.382657Z"
        },
        "trusted": true
      },
      "execution_count": null,
      "outputs": []
    },
    {
      "cell_type": "code",
      "source": [
        "# %load_ext tensorboard\n",
        "# %tensorboard --logdir results/run"
      ],
      "metadata": {
        "id": "kcXw_yASuqZr",
        "trusted": true
      },
      "execution_count": null,
      "outputs": []
    },
    {
      "cell_type": "code",
      "source": [
        "# adapter_config_path = '/content/sft-pip-sql'\n",
        "# model.config.to_json_file(adapter_config_path)\n",
        "# model.push_to_hub(\"new_model\")\n"
      ],
      "metadata": {
        "trusted": true,
        "id": "eNC2wSs-8Wmq"
      },
      "execution_count": null,
      "outputs": []
    },
    {
      "cell_type": "code",
      "source": [
        "# Save the fine-tuned model\n",
        "trainer.model.save_pretrained(new_model)\n",
        "# wandb.finish()\n",
        "model.config.use_cache = True\n",
        "model.eval()"
      ],
      "metadata": {
        "execution": {
          "iopub.status.busy": "2024-04-15T15:35:34.863765Z",
          "iopub.execute_input": "2024-04-15T15:35:34.864193Z",
          "iopub.status.idle": "2024-04-15T15:35:35.514253Z",
          "shell.execute_reply.started": "2024-04-15T15:35:34.864158Z",
          "shell.execute_reply": "2024-04-15T15:35:35.513291Z"
        },
        "trusted": true,
        "id": "x9N1v6to8Wmq"
      },
      "execution_count": null,
      "outputs": []
    },
    {
      "cell_type": "code",
      "source": [
        "model.push_to_hub(\"sft-gemma-1.1-2b-it-v3\")"
      ],
      "metadata": {
        "execution": {
          "iopub.status.busy": "2024-04-15T17:13:59.447899Z",
          "iopub.execute_input": "2024-04-15T17:13:59.448718Z",
          "iopub.status.idle": "2024-04-15T17:15:43.102918Z",
          "shell.execute_reply.started": "2024-04-15T17:13:59.448682Z",
          "shell.execute_reply": "2024-04-15T17:15:43.101715Z"
        },
        "trusted": true,
        "id": "npn-5sUa8Wmq"
      },
      "execution_count": null,
      "outputs": []
    }
  ]
}