{
  "nbformat": 4,
  "nbformat_minor": 0,
  "metadata": {
    "colab": {
      "provenance": [],
      "collapsed_sections": [
        "ruCcBPXGtls8",
        "FjjVGXI2KMS5",
        "-p9VsoGL2lZ3",
        "NUqKDN5b81Wo",
        "Wu_vys1UFPvK",
        "DhUBeFZZGZG5"
      ],
      "gpuType": "T4",
      "include_colab_link": true
    },
    "kernelspec": {
      "name": "python3",
      "display_name": "Python 3"
    },
    "language_info": {
      "name": "python"
    }
  },
  "cells": [
    {
      "cell_type": "markdown",
      "metadata": {
        "id": "view-in-github",
        "colab_type": "text"
      },
      "source": [
        "<a href=\"https://colab.research.google.com/github/Prkhar05/Tiny_Text2SQL/blob/main/sql_evaluation.ipynb\" target=\"_parent\"><img src=\"https://colab.research.google.com/assets/colab-badge.svg\" alt=\"Open In Colab\"/></a>"
      ]
    },
    {
      "cell_type": "markdown",
      "source": [
        "# downloading"
      ],
      "metadata": {
        "id": "ruCcBPXGtls8"
      }
    },
    {
      "cell_type": "code",
      "source": [
        "import gdown"
      ],
      "metadata": {
        "id": "TwDm4BzxscPE"
      },
      "execution_count": null,
      "outputs": []
    },
    {
      "cell_type": "code",
      "source": [
        "# https://drive.google.com/file/d/1mkCx2GOFIqNesD4y8TDAO1yX1QZORP5w/view?usp=sharing  #test suite dataset\n",
        "# https://drive.usercontent.google.com/open?id=1iRDVHLr4mX2wQKSgA9J8Pire73Jahh0m&authuser=0 #spider dataset\n",
        "# https://drive.usercontent.google.com/open?id=1Y3ydpFiQQ3FC0bzdfy3groV95O_f1nXF&authuser=0 #cosql dataset\n",
        "# https://drive.usercontent.google.com/open?id=1Uu7NMHTR1tdQw1t7bAuM7OPU4LElVKfg&authuser=0 #sparc dataset"
      ],
      "metadata": {
        "id": "4TBUpHJinur9"
      },
      "execution_count": null,
      "outputs": []
    },
    {
      "cell_type": "code",
      "source": [
        "def download_zip(file_id,output_file):\n",
        "    gdown.download(f'https://drive.google.com/uc?id={file_id}', output_file, quiet=True)"
      ],
      "metadata": {
        "id": "pfwlEzwyv_Mc"
      },
      "execution_count": null,
      "outputs": []
    },
    {
      "cell_type": "code",
      "source": [
        "# download_zip('1Y3ydpFiQQ3FC0bzdfy3groV95O_f1nXF','cosqldatabases.zip')\n",
        "# !unzip -q cosqldatabases.zip -d cosqldatabase/"
      ],
      "metadata": {
        "id": "QykqrmMtwlDk"
      },
      "execution_count": null,
      "outputs": []
    },
    {
      "cell_type": "markdown",
      "source": [
        "# test-suite-sql-eval"
      ],
      "metadata": {
        "id": "FjjVGXI2KMS5"
      }
    },
    {
      "cell_type": "code",
      "source": [
        "!pip install -q sqlparse==0.4.2 nltk==3.7"
      ],
      "metadata": {
        "id": "cTHAi8n_KPle"
      },
      "execution_count": null,
      "outputs": []
    },
    {
      "cell_type": "code",
      "source": [
        "import sqlite3\n",
        "import pandas as pd"
      ],
      "metadata": {
        "id": "VsLuLkzxKPhE"
      },
      "execution_count": null,
      "outputs": []
    },
    {
      "cell_type": "code",
      "source": [
        "download_zip('1mkCx2GOFIqNesD4y8TDAO1yX1QZORP5w','testsuitedatabases.zip')\n",
        "!unzip -q testsuitedatabases.zip -d database/"
      ],
      "metadata": {
        "id": "OiQZu9LgKXsa"
      },
      "execution_count": null,
      "outputs": []
    },
    {
      "cell_type": "code",
      "source": [
        "!git clone https://github.com/taoyds/test-suite-sql-eval.git"
      ],
      "metadata": {
        "id": "CaKu9M5GKU-c"
      },
      "execution_count": null,
      "outputs": []
    },
    {
      "cell_type": "code",
      "source": [
        "!cp -r /content/database/database /content/test-suite-sql-eval"
      ],
      "metadata": {
        "id": "rqzvHBNwogkB"
      },
      "execution_count": null,
      "outputs": []
    },
    {
      "cell_type": "code",
      "source": [
        "!cd /content/test-suite-sql-eval && mkdir -p out"
      ],
      "metadata": {
        "id": "uqPnOnM6gk-I"
      },
      "execution_count": null,
      "outputs": []
    },
    {
      "cell_type": "code",
      "source": [
        "import pickle\n",
        "with open('/content/test-suite-sql-eval/classical_test.pkl', 'rb') as f:\n",
        "    data = pickle.load(f)"
      ],
      "metadata": {
        "id": "FiVjaA5phfPJ"
      },
      "execution_count": null,
      "outputs": []
    },
    {
      "cell_type": "code",
      "source": [
        "question=[]\n",
        "answer=[]\n",
        "database=[]\n",
        "for d in data:\n",
        "    question.append(d['text'])\n",
        "    database.append(d['db_id'])\n",
        "    answer.append(d['query'])\n",
        "len(question),len(answer),len(database)"
      ],
      "metadata": {
        "colab": {
          "base_uri": "https://localhost:8080/"
        },
        "id": "QFVqShb1j-0m",
        "outputId": "4b601b89-a35d-45b9-c3f7-65f1e18932fa"
      },
      "execution_count": null,
      "outputs": [
        {
          "output_type": "execute_result",
          "data": {
            "text/plain": [
              "(3509, 3509, 3509)"
            ]
          },
          "metadata": {},
          "execution_count": 2
        }
      ]
    },
    {
      "cell_type": "code",
      "source": [
        "schema_cache = {}\n",
        "\n",
        "def get_schema(db):\n",
        "    if db in schema_cache:\n",
        "        return schema_cache[db]\n",
        "\n",
        "    connection = sqlite3.connect(f'/content/database/database/{db}/{db}.sqlite')\n",
        "    cursor = connection.cursor()\n",
        "\n",
        "    cursor.execute(\"SELECT sql FROM sqlite_master WHERE type='table'\")\n",
        "    tables = cursor.fetchall()\n",
        "    schema=\"\"\n",
        "    for table in tables:\n",
        "        schema+=table[0]+';'\n",
        "    connection.close()\n",
        "\n",
        "    schema_cache[db] = schema\n",
        "    return schema"
      ],
      "metadata": {
        "id": "_kwkMmOo4Gg6"
      },
      "execution_count": null,
      "outputs": []
    },
    {
      "cell_type": "code",
      "source": [
        "database_schema=[]\n",
        "for db in database:\n",
        "    schema=get_schema(db)\n",
        "    database_schema.append(schema)\n",
        "len(database_schema)"
      ],
      "metadata": {
        "colab": {
          "base_uri": "https://localhost:8080/"
        },
        "id": "w68rA55y1lqx",
        "outputId": "e25cdac8-cd2f-4ff4-f4dc-f6069e9a6a6a"
      },
      "execution_count": null,
      "outputs": [
        {
          "output_type": "execute_result",
          "data": {
            "text/plain": [
              "3509"
            ]
          },
          "metadata": {},
          "execution_count": 6
        }
      ]
    },
    {
      "cell_type": "code",
      "source": [
        "data = {\"schema\": database_schema, \"question\": question, \"query\": answer}\n",
        "sql_eval_dataset = pd.DataFrame(data)"
      ],
      "metadata": {
        "id": "Gx_VHSWR7s-Q"
      },
      "execution_count": null,
      "outputs": []
    },
    {
      "cell_type": "code",
      "source": [
        "# dataset.iloc[0].schema,dataset.iloc[0].question,dataset.iloc[0].query"
      ],
      "metadata": {
        "id": "W9CZ6cEhYOS1"
      },
      "execution_count": null,
      "outputs": []
    },
    {
      "cell_type": "code",
      "source": [
        "# academic_count = 0\n",
        "# atis_count = 0\n",
        "# advising_count = 0\n",
        "# geography_count = 0\n",
        "# imdb_count = 0\n",
        "# restaurants_count = 0\n",
        "# scholar_count = 0\n",
        "# yelp_count = 0\n",
        "# for db in database:\n",
        "#     if db == \"academic\":\n",
        "#         academic_count += 1\n",
        "#     elif db == \"atis\":\n",
        "#         atis_count += 1\n",
        "#     elif db == \"advising\":\n",
        "#         advising_count += 1\n",
        "#     elif db == \"geography\":\n",
        "#         geography_count += 1\n",
        "#     elif db == \"imdb\":\n",
        "#         imdb_count += 1\n",
        "#     elif db == \"restaurants\":\n",
        "#         restaurants_count += 1\n",
        "#     elif db == \"scholar\":\n",
        "#         scholar_count += 1\n",
        "#     elif db == \"yelp\":\n",
        "#         yelp_count += 1\n",
        "# print(\"academic:\", academic_count)\n",
        "# print(\"atis:\", atis_count)\n",
        "# print(\"advising:\", advising_count)\n",
        "# print(\"geography:\", geography_count)\n",
        "# print(\"imdb:\", imdb_count)\n",
        "# print(\"restaurants:\", restaurants_count)\n",
        "# print(\"scholar:\", scholar_count)\n",
        "# print(\"yelp:\", yelp_count)\n",
        "# # ['academic'=196, 'atis'=347, 'advising'=1832, 'geography'=182, 'imdb'=131, 'restaurants'=378, 'scholar'=315, 'yelp'=128]"
      ],
      "metadata": {
        "id": "N9_ovMo7ZGMV"
      },
      "execution_count": null,
      "outputs": []
    },
    {
      "cell_type": "code",
      "source": [
        "# !rm -r /content/test-suite-sql-eval/out/out_academic_test.json"
      ],
      "metadata": {
        "id": "TrcOGsaw0tuR"
      },
      "execution_count": null,
      "outputs": []
    },
    {
      "cell_type": "code",
      "source": [
        "# !cd test-suite-sql-eval && python3 evaluate_classical.py --gold=classical_test.pkl --pred=evaluation_examples/academic_gold.txt --subset=academic --out_file=out/out_academic_test.json"
      ],
      "metadata": {
        "id": "aWJ-zloqnCEI"
      },
      "execution_count": null,
      "outputs": []
    },
    {
      "cell_type": "markdown",
      "source": [
        "# sparc"
      ],
      "metadata": {
        "id": "-p9VsoGL2lZ3"
      }
    },
    {
      "cell_type": "code",
      "source": [
        "import json,sqlite3"
      ],
      "metadata": {
        "id": "YNSxpTPz3w1B"
      },
      "execution_count": null,
      "outputs": []
    },
    {
      "cell_type": "code",
      "source": [
        "download_zip('1Uu7NMHTR1tdQw1t7bAuM7OPU4LElVKfg','sparcdatabases.zip')\n",
        "!unzip -q sparcdatabases.zip -d sparcdatabase/"
      ],
      "metadata": {
        "id": "W5U3H5BzKoPT"
      },
      "execution_count": null,
      "outputs": []
    },
    {
      "cell_type": "code",
      "source": [
        "def get_schema_with_sql(db):\n",
        "    try:\n",
        "        with open(f\"/content/sparcdatabase/sparc/database/{db}/schema.sql\", 'r') as sql_file:\n",
        "            schema = sql_file.read()\n",
        "    except FileNotFoundError:\n",
        "        try:\n",
        "            with open(f\"/content/sparcdatabase/sparc/database/{db}/{db}.sql\", 'r') as sql_file:\n",
        "                schema = sql_file.read()\n",
        "        except FileNotFoundError:\n",
        "            # print(db)\n",
        "            schema=\"\"\n",
        "    return schema"
      ],
      "metadata": {
        "id": "qPV8f7pm2lQc"
      },
      "execution_count": null,
      "outputs": []
    },
    {
      "cell_type": "code",
      "source": [
        "schema_cache = {}\n",
        "\n",
        "def get_schema_with_sqlite(db):\n",
        "    if db in schema_cache:\n",
        "        return schema_cache[db]\n",
        "\n",
        "    connection = sqlite3.connect(f'/content/sparcdatabase/sparc/database/{db}/{db}.sqlite')\n",
        "    cursor = connection.cursor()\n",
        "\n",
        "    cursor.execute(\"SELECT sql FROM sqlite_master WHERE type='table'\")\n",
        "    tables = cursor.fetchall()\n",
        "    schema=\"\"\n",
        "    for table in tables:\n",
        "        schema+=table[0]+';'\n",
        "    connection.close()\n",
        "\n",
        "    schema_cache[db] = schema\n",
        "    return schema"
      ],
      "metadata": {
        "id": "tHelalzp5jpj"
      },
      "execution_count": null,
      "outputs": []
    },
    {
      "cell_type": "code",
      "source": [
        "def prepare_data(path_name):\n",
        "    with open(f\"/content/sparcdatabase/sparc/{path_name}.json\", 'r') as f:\n",
        "        data = f.read()\n",
        "        data=json.loads(data)\n",
        "    question=[]\n",
        "    answer=[]\n",
        "    database=[]\n",
        "    for d in data:\n",
        "        question.append(d['final']['utterance'])\n",
        "        database.append(d['database_id'])\n",
        "        answer.append(d['final']['query'])\n",
        "    database_schema=[]\n",
        "    for db in database:\n",
        "        schema=get_schema_with_sql(db)\n",
        "        database_schema.append(schema)\n",
        "    dt=['voter_1','world_1','college_2','college_1','small_bank_1','chinook_1','twitter_1','epinions_1','flight_4']\n",
        "    for i in range(len(database)):\n",
        "        if database[i] in dt:\n",
        "            database_schema[i]=get_schema_with_sqlite(database[i])\n",
        "    return question,answer,database,database_schema"
      ],
      "metadata": {
        "id": "VJYoThoj7JY3"
      },
      "execution_count": null,
      "outputs": []
    },
    {
      "cell_type": "code",
      "source": [
        "question,answer,database,database_schema=prepare_data(\"dev\")\n",
        "len(question),len(answer),len(database),len(database_schema)"
      ],
      "metadata": {
        "id": "3g7pGWSY7tAB"
      },
      "execution_count": null,
      "outputs": []
    },
    {
      "cell_type": "code",
      "source": [
        "question1,answer1,database1,database_schema1=prepare_data(\"train\")\n",
        "len(question1),len(answer1),len(database1),len(database_schema1)"
      ],
      "metadata": {
        "id": "slpovVPW750C"
      },
      "execution_count": null,
      "outputs": []
    },
    {
      "cell_type": "code",
      "source": [
        "len([d for d in database_schema if d==\"\"])"
      ],
      "metadata": {
        "id": "i5lmO-0y6SEi"
      },
      "execution_count": null,
      "outputs": []
    },
    {
      "cell_type": "code",
      "source": [
        "database_schema=database_schema+database_schema1\n",
        "question=question+question1\n",
        "answer=answer+answer1\n",
        "data = {\"schema\": database_schema, \"question\": question, \"query\": answer}\n",
        "sparc_dataset = pd.DataFrame(data)"
      ],
      "metadata": {
        "id": "YgNPWeEbEFS1"
      },
      "execution_count": null,
      "outputs": []
    },
    {
      "cell_type": "markdown",
      "source": [
        "# spider"
      ],
      "metadata": {
        "id": "NUqKDN5b81Wo"
      }
    },
    {
      "cell_type": "code",
      "source": [
        "import json,sqlite3"
      ],
      "metadata": {
        "id": "XYVUYnUD88gT"
      },
      "execution_count": null,
      "outputs": []
    },
    {
      "cell_type": "code",
      "source": [
        "download_zip('1iRDVHLr4mX2wQKSgA9J8Pire73Jahh0m','spiderdatabases.zip')\n",
        "!unzip -q spiderdatabases.zip -d spiderdatabase/"
      ],
      "metadata": {
        "id": "fl2F7UlyKger"
      },
      "execution_count": null,
      "outputs": []
    },
    {
      "cell_type": "code",
      "source": [
        "def get_schema_with_sql(db):\n",
        "    try:\n",
        "        with open(f\"/content/spiderdatabase/spider/database/{db}/schema.sql\", 'r') as sql_file:\n",
        "            schema = sql_file.read()\n",
        "    except FileNotFoundError:\n",
        "        try:\n",
        "            with open(f\"/content/spiderdatabase/spider/database/{db}/{db}.sql\", 'r') as sql_file:\n",
        "                schema = sql_file.read()\n",
        "        except FileNotFoundError:\n",
        "            # print(db)\n",
        "            schema=\"\"\n",
        "    return schema"
      ],
      "metadata": {
        "id": "8avpm4rt9pWB"
      },
      "execution_count": null,
      "outputs": []
    },
    {
      "cell_type": "code",
      "source": [
        "schema_cache = {}\n",
        "\n",
        "def get_schema_with_sqlite(db):\n",
        "    if db in schema_cache:\n",
        "        return schema_cache[db]\n",
        "\n",
        "    connection = sqlite3.connect(f'/content/spiderdatabase/spider/database/{db}/{db}.sqlite')\n",
        "    cursor = connection.cursor()\n",
        "\n",
        "    cursor.execute(\"SELECT sql FROM sqlite_master WHERE type='table'\")\n",
        "    tables = cursor.fetchall()\n",
        "    schema=\"\"\n",
        "    for table in tables:\n",
        "        schema+=table[0]+';'\n",
        "    connection.close()\n",
        "\n",
        "    schema_cache[db] = schema\n",
        "    return schema"
      ],
      "metadata": {
        "id": "ysysxQKz_v9A"
      },
      "execution_count": null,
      "outputs": []
    },
    {
      "cell_type": "code",
      "source": [
        "def prepare_data(path_name):\n",
        "    with open(f\"/content/spiderdatabase/spider/{path_name}.json\", 'r') as f:\n",
        "        data = f.read()\n",
        "        data=json.loads(data)\n",
        "    question=[]\n",
        "    answer=[]\n",
        "    database=[]\n",
        "    for d in data:\n",
        "        question.append(d['question'])\n",
        "        database.append(d['db_id'])\n",
        "        answer.append(d['query'])\n",
        "    database_schema=[]\n",
        "    for db in database:\n",
        "        schema=get_schema_with_sql(db)\n",
        "        database_schema.append(schema)\n",
        "    dt=['voter_1','world_1','college_2','college_1','small_bank_1','chinook_1','twitter_1','epinions_1','flight_4']\n",
        "    for i in range(len(database)):\n",
        "        if database[i] in dt:\n",
        "            database_schema[i]=get_schema_with_sqlite(database[i])\n",
        "    return question,answer,database,database_schema"
      ],
      "metadata": {
        "id": "haJyqtuD9kaB"
      },
      "execution_count": null,
      "outputs": []
    },
    {
      "cell_type": "code",
      "source": [
        "question,answer,database,database_schema=prepare_data(\"dev\")\n",
        "len(question),len(answer),len(database),len(database_schema)"
      ],
      "metadata": {
        "id": "_StTGAKL9U_Z"
      },
      "execution_count": null,
      "outputs": []
    },
    {
      "cell_type": "code",
      "source": [
        "# question1,answer1,database1,database_schema1=prepare_data(\"train_spider\")\n",
        "# len(question1),len(answer1),len(database1),len(database_schema1)"
      ],
      "metadata": {
        "id": "Ep3WB4HsAACb"
      },
      "execution_count": null,
      "outputs": []
    },
    {
      "cell_type": "code",
      "source": [
        "question2,answer2,database2,database_schema2=prepare_data(\"train_others\")\n",
        "len(question2),len(answer2),len(database2),len(database_schema2)"
      ],
      "metadata": {
        "id": "fgW-yvbpAD_E"
      },
      "execution_count": null,
      "outputs": []
    },
    {
      "cell_type": "code",
      "source": [
        "def get_schema_with_sql(db):\n",
        "    try:\n",
        "        with open(f\"/content/spiderdatabase/spider/test_database/{db}/schema.sql\", 'r') as sql_file:\n",
        "            schema = sql_file.read()\n",
        "    except FileNotFoundError:\n",
        "        try:\n",
        "            with open(f\"/content/spiderdatabase/spider/test_database/{db}/{db}.sql\", 'r') as sql_file:\n",
        "                schema = sql_file.read()\n",
        "        except FileNotFoundError:\n",
        "            # print(db)\n",
        "            schema=\"\"\n",
        "    return schema"
      ],
      "metadata": {
        "id": "QJR1GcpnBtmX"
      },
      "execution_count": null,
      "outputs": []
    },
    {
      "cell_type": "code",
      "source": [
        "def prepare_data(path_name):\n",
        "    with open(f\"/content/spiderdatabase/spider/test_data/{path_name}.json\", 'r') as f:\n",
        "        data = f.read()\n",
        "        data=json.loads(data)\n",
        "    question=[]\n",
        "    answer=[]\n",
        "    database=[]\n",
        "    for d in data:\n",
        "        question.append(d['question'])\n",
        "        database.append(d['db_id'])\n",
        "        answer.append(d['query'])\n",
        "    database_schema=[]\n",
        "    for db in database:\n",
        "        schema=get_schema_with_sql(db)\n",
        "        database_schema.append(schema)\n",
        "    dt=['voter_1','world_1','college_2','college_1','small_bank_1','chinook_1','twitter_1','epinions_1','flight_4']\n",
        "    for i in range(len(database)):\n",
        "        if database[i] in dt:\n",
        "            database_schema[i]=get_schema_with_sqlite(database[i])\n",
        "    return question,answer,database,database_schema"
      ],
      "metadata": {
        "id": "eIYRvX9YBMab"
      },
      "execution_count": null,
      "outputs": []
    },
    {
      "cell_type": "code",
      "source": [
        "question3,answer3,database3,database_schema3=prepare_data(\"dev\")\n",
        "len(question3),len(answer3),len(database3),len(database_schema3)"
      ],
      "metadata": {
        "id": "AYyA0WsABR0n"
      },
      "execution_count": null,
      "outputs": []
    },
    {
      "cell_type": "code",
      "source": [
        "scm=\"\"\"CREATE TABLE Artists (\n",
        "  artistID INTEGER,\n",
        "  lname TEXT,\n",
        "  fname TEXT,\n",
        "  birthYear INTEGER,\n",
        "  deathYear INTEGER,\n",
        "  PRIMARY KEY (artistID)\n",
        ");CREATE TABLE Paintings (\n",
        "  paintingID INTEGER,\n",
        "  title TEXT,\n",
        "  year INTEGER,\n",
        "  height_mm INTEGER,\n",
        "  width_mm INTEGER,\n",
        "  medium TEXT,\n",
        "  mediumOn TEXT,\n",
        "  location TEXT,\n",
        "  painterID INTEGER,\n",
        "  PRIMARY KEY (paintingID),\n",
        "  FOREIGN KEY (painterID) REFERENCES Artists (artistID)\n",
        ");CREATE TABLE Sculptures (\n",
        "  sculptureID INTEGER,\n",
        "  title TEXT,\n",
        "  year INTEGER,\n",
        "  medium TEXT,\n",
        "  location TEXT,\n",
        "  sculptorID INTEGER,\n",
        "  PRIMARY KEY (sculptureID),\n",
        "  FOREIGN KEY (sculptorID) REFERENCES Artists (artistID)\n",
        ");\"\"\"\n",
        "for i in range(len(database3)):\n",
        "    if database3[i]==\"art_1\":\n",
        "        database_schema3[i]=scm"
      ],
      "metadata": {
        "id": "G2JnG328B33e"
      },
      "execution_count": null,
      "outputs": []
    },
    {
      "cell_type": "code",
      "source": [
        "len([d for d in database_schema3 if d==\"\"])"
      ],
      "metadata": {
        "id": "6fsvc7H79U7M"
      },
      "execution_count": null,
      "outputs": []
    },
    {
      "cell_type": "code",
      "source": [
        "len(answer)+len(answer2)+len(answer3)"
      ],
      "metadata": {
        "id": "QIfxrcgCD2Nv"
      },
      "execution_count": null,
      "outputs": []
    },
    {
      "cell_type": "code",
      "source": [
        "database_schema=database_schema+database_schema2+database_schema3\n",
        "question=question+question2+question3\n",
        "answer=answer+answer2+answer3\n",
        "len(answer)\n",
        "data = {\"schema\": database_schema, \"question\": question, \"query\": answer}\n",
        "spider_dataset = pd.DataFrame(data)"
      ],
      "metadata": {
        "id": "r0Pap6_lC2eQ"
      },
      "execution_count": null,
      "outputs": []
    },
    {
      "cell_type": "markdown",
      "source": [
        "# final"
      ],
      "metadata": {
        "id": "Wu_vys1UFPvK"
      }
    },
    {
      "cell_type": "code",
      "source": [
        "sql_eval_dataset.shape,spider_dataset.shape,sparc_dataset.shape"
      ],
      "metadata": {
        "id": "gNHttD21FQ3R"
      },
      "execution_count": null,
      "outputs": []
    },
    {
      "cell_type": "code",
      "source": [
        "# final_dataset=pd.concat([sql_eval_dataset, spider_dataset, sparc_dataset], axis=0).reset_index(drop=True, inplace=True)\n",
        "# final_dataset.shape"
      ],
      "metadata": {
        "id": "fPZ49k1OF5nZ"
      },
      "execution_count": null,
      "outputs": []
    },
    {
      "cell_type": "markdown",
      "source": [
        "# pushing dataset"
      ],
      "metadata": {
        "id": "DhUBeFZZGZG5"
      }
    },
    {
      "cell_type": "code",
      "source": [
        "!pip install -q datasets"
      ],
      "metadata": {
        "id": "ln5RmpfIGa1X"
      },
      "execution_count": null,
      "outputs": []
    },
    {
      "cell_type": "code",
      "source": [
        "!huggingface-cli login"
      ],
      "metadata": {
        "id": "wqDGPeG4Gj-F"
      },
      "execution_count": null,
      "outputs": []
    },
    {
      "cell_type": "code",
      "source": [
        "from datasets import Dataset,load_dataset,DatasetDict"
      ],
      "metadata": {
        "id": "Jb06UcGkGdR7"
      },
      "execution_count": null,
      "outputs": []
    },
    {
      "cell_type": "code",
      "source": [
        "dataset=load_dataset('Cynaptics/Test2Sql')\n",
        "dataset"
      ],
      "metadata": {
        "id": "-4YGyTwnGhoN"
      },
      "execution_count": null,
      "outputs": []
    },
    {
      "cell_type": "code",
      "source": [
        "d={\n",
        "    \"train\":dataset['train'],\n",
        "    \"small_train\":dataset['small_train'],\n",
        "    \"small_validation\":dataset['small_validation'],\n",
        "    \"sql_eval_test\":Dataset.from_pandas(sql_eval_dataset),\n",
        "    \"spider_test\":Dataset.from_pandas(spider_dataset),\n",
        "    \"sparc_test\":Dataset.from_pandas(sparc_dataset)\n",
        "   }"
      ],
      "metadata": {
        "id": "TcTT30Q9Ghl_"
      },
      "execution_count": null,
      "outputs": []
    },
    {
      "cell_type": "code",
      "source": [
        "dataset = Dataset.from_dict(d)\n",
        "dataset"
      ],
      "metadata": {
        "id": "-BfLFe0NGhju"
      },
      "execution_count": null,
      "outputs": []
    },
    {
      "cell_type": "code",
      "source": [
        "dataset.push_to_hub(\"Cynaptics/Test2Sql\")"
      ],
      "metadata": {
        "id": "OenYPRCUHvGL"
      },
      "execution_count": null,
      "outputs": []
    }
  ]
}